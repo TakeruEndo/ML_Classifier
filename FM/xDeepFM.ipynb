{
 "cells": [
  {
   "cell_type": "markdown",
   "metadata": {},
   "source": [
    "## DeepCTR\n",
    "deepCTRの使い方\n",
    "\n",
    "### ドキュメント\n",
    "1. tensorflow  \n",
    "https://deepctr-doc.readthedocs.io/en/latest/_modules/deepctr/models/xdeepfm.html\n",
    "2. pytorch  \n",
    "https://deepctr-torch.readthedocs.io/en/latest/"
   ]
  },
  {
   "cell_type": "code",
   "execution_count": 1,
   "metadata": {},
   "outputs": [],
   "source": [
    "# !pip install deepctr"
   ]
  },
  {
   "cell_type": "code",
   "execution_count": 2,
   "metadata": {},
   "outputs": [],
   "source": [
    "import pandas as pd\n",
    "import numpy as np\n",
    "import datetime\n",
    "\n",
    "from sklearn.metrics import average_precision_score\n",
    "from sklearn.preprocessing import LabelEncoder, MinMaxScaler\n",
    "from sklearn.model_selection import KFold, GroupKFold, train_test_split\n",
    "from deepctr.models import DeepFM, xDeepFM\n",
    "from deepctr.feature_column import SparseFeat, DenseFeat,get_feature_names"
   ]
  },
  {
   "cell_type": "code",
   "execution_count": null,
   "metadata": {},
   "outputs": [],
   "source": [
    "train = pd.read_csv('inputs/train.csv')\n",
    "test =  pd.read_csv('inputs/test.csv')"
   ]
  },
  {
   "cell_type": "markdown",
   "metadata": {},
   "source": [
    "## 評価指標の定義"
   ]
  },
  {
   "cell_type": "code",
   "execution_count": null,
   "metadata": {},
   "outputs": [],
   "source": [
    "def metric(va_y, pred):\n",
    "    score = average_precision_score(va_y, pred)\n",
    "    return score"
   ]
  },
  {
   "cell_type": "markdown",
   "metadata": {},
   "source": [
    "## 前処理\n",
    "省略\n",
    "\n",
    "※ dense_featuresに対してはスケーリングを行う"
   ]
  },
  {
   "cell_type": "markdown",
   "metadata": {},
   "source": [
    "## データの整形"
   ]
  },
  {
   "cell_type": "code",
   "execution_count": null,
   "metadata": {},
   "outputs": [],
   "source": [
    "sparse_features = [\"カラムを指定\"]\n",
    "dense_features = [\"カラムを指定\"]"
   ]
  },
  {
   "cell_type": "code",
   "execution_count": null,
   "metadata": {},
   "outputs": [],
   "source": [
    "fixlen_feature_columns = [SparseFeat(feat, vocabulary_size=data[feat].nunique(), embedding_dim=4)\n",
    "                       for i,feat in enumerate(sparse_features)] + [DenseFeat(feat, 1,)\n",
    "                      for feat in dense_features]\n",
    "dnn_feature_columns = fixlen_feature_columns\n",
    "linear_feature_columns = fixlen_feature_columns\n",
    "\n",
    "feature_names = get_feature_names(linear_feature_columns + dnn_feature_columns)"
   ]
  },
  {
   "cell_type": "markdown",
   "metadata": {},
   "source": [
    "## 学習"
   ]
  },
  {
   "cell_type": "code",
   "execution_count": null,
   "metadata": {},
   "outputs": [],
   "source": [
    "y_pred = np.zeros(len(test))\n",
    "scores = []\n",
    "kf = KFold(n_splits=4, shuffle=True, random_state=71)\n",
    "for i, (tr_idx, va_idx) in enumerate(kf.split(train)):\n",
    "    tr, va = train.iloc[tr_idx], train.iloc[va_idx]\n",
    "    train_model_input = {name:tr[name] for name in feature_names}\n",
    "    va_model_input = {name:va[name] for name in feature_names}  \n",
    "    model = xDeepFM(linear_feature_columns,dnn_feature_columns,task='binary')\n",
    "    model.compile(\"adam\", \"binary_crossentropy\",\n",
    "                  metrics=['binary_crossentropy'], )\n",
    "\n",
    "    history = model.fit(train_model_input, tr['target'].values,\n",
    "                        batch_size=256, epochs=4, verbose=2, validation_split=0.0, )\n",
    "    pred_ans = model.predict(va_model_input, batch_size=256)\n",
    "    print(metric(va['target'], pred_ans))\n",
    "    test_model_input = {name:test[name] for name in feature_names}\n",
    "    pred_ans = model.predict(test_model_input, batch_size=256)\n",
    "    pred_ans = pred_ans.flatten()\n",
    "    y_pred += pred_ans / 4"
   ]
  },
  {
   "cell_type": "code",
   "execution_count": null,
   "metadata": {},
   "outputs": [],
   "source": []
  }
 ],
 "metadata": {
  "kernelspec": {
   "display_name": "Python 3",
   "language": "python",
   "name": "python3"
  },
  "language_info": {
   "codemirror_mode": {
    "name": "ipython",
    "version": 3
   },
   "file_extension": ".py",
   "mimetype": "text/x-python",
   "name": "python",
   "nbconvert_exporter": "python",
   "pygments_lexer": "ipython3",
   "version": "3.7.7"
  }
 },
 "nbformat": 4,
 "nbformat_minor": 4
}
